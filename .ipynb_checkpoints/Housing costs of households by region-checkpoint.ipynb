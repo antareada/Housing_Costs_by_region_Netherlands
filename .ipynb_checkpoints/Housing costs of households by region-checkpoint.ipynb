{
 "cells": [
  {
   "cell_type": "code",
   "execution_count": 51,
   "metadata": {},
   "outputs": [],
   "source": [
    "import pandas as pd\n",
    "import csv\n",
    "from collections import defaultdict"
   ]
  },
  {
   "cell_type": "markdown",
   "metadata": {},
   "source": [
    "## Reading the metadata file"
   ]
  },
  {
   "cell_type": "code",
   "execution_count": 73,
   "metadata": {},
   "outputs": [],
   "source": [
    "with open('metadata_costs.csv', newline='', encoding='utf-8-sig') as csvfile:\n",
    "    filereader = csv.reader(csvfile, delimiter=';')\n",
    "    name = ''\n",
    "    data = defaultdict(list)\n",
    "    for row in filereader:\n",
    "        if len(row) == 1:\n",
    "            name = row[0]\n",
    "        else:\n",
    "            data[name].append(row)"
   ]
  },
  {
   "cell_type": "code",
   "execution_count": 60,
   "metadata": {},
   "outputs": [
    {
     "data": {
      "text/plain": [
       "dict_keys(['TableInfos', 'DataProperties', 'OwnerOrTenant', 'DwellingCharacteristics', 'Accuracy', 'Region', 'Periods'])"
      ]
     },
     "execution_count": 60,
     "metadata": {},
     "output_type": "execute_result"
    }
   ],
   "source": [
    "data.keys()"
   ]
  },
  {
   "cell_type": "code",
   "execution_count": 61,
   "metadata": {},
   "outputs": [],
   "source": [
    "owner_or_tenant = pd.DataFrame(columns=data['OwnerOrTenant'][0], data=data['OwnerOrTenant'][1:])\n",
    "dwelling_characteristics = pd.DataFrame(columns=data['DwellingCharacteristics'][0], data=data['DwellingCharacteristics'][1:])\n",
    "accuracy = pd.DataFrame(columns=data['Accuracy'][0], data=data['Accuracy'][1:])\n",
    "region = pd.DataFrame(columns=data['Region'][0], data=data['Region'][1:])\n",
    "periods = pd.DataFrame(columns=data['Periods'][0], data=data['Periods'][1:])"
   ]
  },
  {
   "cell_type": "code",
   "execution_count": 68,
   "metadata": {},
   "outputs": [
    {
     "data": {
      "text/html": [
       "<div>\n",
       "<style scoped>\n",
       "    .dataframe tbody tr th:only-of-type {\n",
       "        vertical-align: middle;\n",
       "    }\n",
       "\n",
       "    .dataframe tbody tr th {\n",
       "        vertical-align: top;\n",
       "    }\n",
       "\n",
       "    .dataframe thead th {\n",
       "        text-align: right;\n",
       "    }\n",
       "</style>\n",
       "<table border=\"1\" class=\"dataframe\">\n",
       "  <thead>\n",
       "    <tr style=\"text-align: right;\">\n",
       "      <th></th>\n",
       "      <th>Key</th>\n",
       "      <th>Title</th>\n",
       "      <th>Description</th>\n",
       "    </tr>\n",
       "  </thead>\n",
       "  <tbody>\n",
       "    <tr>\n",
       "      <th>0</th>\n",
       "      <td>T001096</td>\n",
       "      <td>Total</td>\n",
       "      <td></td>\n",
       "    </tr>\n",
       "    <tr>\n",
       "      <th>1</th>\n",
       "      <td>A025403</td>\n",
       "      <td>Owner</td>\n",
       "      <td></td>\n",
       "    </tr>\n",
       "    <tr>\n",
       "      <th>2</th>\n",
       "      <td>A025404</td>\n",
       "      <td>Tenant</td>\n",
       "      <td></td>\n",
       "    </tr>\n",
       "    <tr>\n",
       "      <th>3</th>\n",
       "      <td>A025405</td>\n",
       "      <td>Rents dwelling from private owner</td>\n",
       "      <td>Private owners include institutional investors...</td>\n",
       "    </tr>\n",
       "  </tbody>\n",
       "</table>\n",
       "</div>"
      ],
      "text/plain": [
       "       Key                              Title  \\\n",
       "0  T001096                              Total   \n",
       "1  A025403                              Owner   \n",
       "2  A025404                             Tenant   \n",
       "3  A025405  Rents dwelling from private owner   \n",
       "\n",
       "                                         Description  \n",
       "0                                                     \n",
       "1                                                     \n",
       "2                                                     \n",
       "3  Private owners include institutional investors...  "
      ]
     },
     "execution_count": 68,
     "metadata": {},
     "output_type": "execute_result"
    }
   ],
   "source": [
    "owner_or_tenant.head(4)"
   ]
  },
  {
   "cell_type": "code",
   "execution_count": 69,
   "metadata": {},
   "outputs": [
    {
     "data": {
      "text/html": [
       "<div>\n",
       "<style scoped>\n",
       "    .dataframe tbody tr th:only-of-type {\n",
       "        vertical-align: middle;\n",
       "    }\n",
       "\n",
       "    .dataframe tbody tr th {\n",
       "        vertical-align: top;\n",
       "    }\n",
       "\n",
       "    .dataframe thead th {\n",
       "        text-align: right;\n",
       "    }\n",
       "</style>\n",
       "<table border=\"1\" class=\"dataframe\">\n",
       "  <thead>\n",
       "    <tr style=\"text-align: right;\">\n",
       "      <th></th>\n",
       "      <th>Key</th>\n",
       "      <th>Title</th>\n",
       "      <th>Description</th>\n",
       "    </tr>\n",
       "  </thead>\n",
       "  <tbody>\n",
       "    <tr>\n",
       "      <th>0</th>\n",
       "      <td>2060100</td>\n",
       "      <td>Dwelling: 1st 25%-group WOZ</td>\n",
       "      <td>Dwelling in 1st 25%-group in terms of value un...</td>\n",
       "    </tr>\n",
       "    <tr>\n",
       "      <th>1</th>\n",
       "      <td>2060110</td>\n",
       "      <td>Dwelling: 2nd 25%-group WOZ</td>\n",
       "      <td>Dwelling in 2nd 25%-group in terms of value un...</td>\n",
       "    </tr>\n",
       "    <tr>\n",
       "      <th>2</th>\n",
       "      <td>2060120</td>\n",
       "      <td>Dwellings: 3rd 25%-group WOZ</td>\n",
       "      <td>Dwelling in 3rd 25%-group in terms of value un...</td>\n",
       "    </tr>\n",
       "    <tr>\n",
       "      <th>3</th>\n",
       "      <td>2060130</td>\n",
       "      <td>Dwellings: 4th 25%-group WOZ</td>\n",
       "      <td>Dwelling in 4th 25%-group in terms of value un...</td>\n",
       "    </tr>\n",
       "  </tbody>\n",
       "</table>\n",
       "</div>"
      ],
      "text/plain": [
       "       Key                         Title  \\\n",
       "0  2060100   Dwelling: 1st 25%-group WOZ   \n",
       "1  2060110   Dwelling: 2nd 25%-group WOZ   \n",
       "2  2060120  Dwellings: 3rd 25%-group WOZ   \n",
       "3  2060130  Dwellings: 4th 25%-group WOZ   \n",
       "\n",
       "                                         Description  \n",
       "0  Dwelling in 1st 25%-group in terms of value un...  \n",
       "1  Dwelling in 2nd 25%-group in terms of value un...  \n",
       "2  Dwelling in 3rd 25%-group in terms of value un...  \n",
       "3  Dwelling in 4th 25%-group in terms of value un...  "
      ]
     },
     "execution_count": 69,
     "metadata": {},
     "output_type": "execute_result"
    }
   ],
   "source": [
    "dwelling_characteristics.head(4)"
   ]
  },
  {
   "cell_type": "code",
   "execution_count": 70,
   "metadata": {},
   "outputs": [
    {
     "data": {
      "text/html": [
       "<div>\n",
       "<style scoped>\n",
       "    .dataframe tbody tr th:only-of-type {\n",
       "        vertical-align: middle;\n",
       "    }\n",
       "\n",
       "    .dataframe tbody tr th {\n",
       "        vertical-align: top;\n",
       "    }\n",
       "\n",
       "    .dataframe thead th {\n",
       "        text-align: right;\n",
       "    }\n",
       "</style>\n",
       "<table border=\"1\" class=\"dataframe\">\n",
       "  <thead>\n",
       "    <tr style=\"text-align: right;\">\n",
       "      <th></th>\n",
       "      <th>Key</th>\n",
       "      <th>Title</th>\n",
       "      <th>Description</th>\n",
       "    </tr>\n",
       "  </thead>\n",
       "  <tbody>\n",
       "    <tr>\n",
       "      <th>0</th>\n",
       "      <td>MW00000</td>\n",
       "      <td>Value</td>\n",
       "      <td></td>\n",
       "    </tr>\n",
       "    <tr>\n",
       "      <th>1</th>\n",
       "      <td>MOG0095</td>\n",
       "      <td>Lower bound 95% confidence interval</td>\n",
       "      <td>This is the lower bound of the interval that c...</td>\n",
       "    </tr>\n",
       "    <tr>\n",
       "      <th>2</th>\n",
       "      <td>MBG0095</td>\n",
       "      <td>Upper bound 95% confidence interval</td>\n",
       "      <td>This is the upper bound of the interval that c...</td>\n",
       "    </tr>\n",
       "  </tbody>\n",
       "</table>\n",
       "</div>"
      ],
      "text/plain": [
       "       Key                                Title  \\\n",
       "0  MW00000                                Value   \n",
       "1  MOG0095  Lower bound 95% confidence interval   \n",
       "2  MBG0095  Upper bound 95% confidence interval   \n",
       "\n",
       "                                         Description  \n",
       "0                                                     \n",
       "1  This is the lower bound of the interval that c...  \n",
       "2  This is the upper bound of the interval that c...  "
      ]
     },
     "execution_count": 70,
     "metadata": {},
     "output_type": "execute_result"
    }
   ],
   "source": [
    "accuracy.head(4)"
   ]
  },
  {
   "cell_type": "code",
   "execution_count": 71,
   "metadata": {},
   "outputs": [
    {
     "data": {
      "text/html": [
       "<div>\n",
       "<style scoped>\n",
       "    .dataframe tbody tr th:only-of-type {\n",
       "        vertical-align: middle;\n",
       "    }\n",
       "\n",
       "    .dataframe tbody tr th {\n",
       "        vertical-align: top;\n",
       "    }\n",
       "\n",
       "    .dataframe thead th {\n",
       "        text-align: right;\n",
       "    }\n",
       "</style>\n",
       "<table border=\"1\" class=\"dataframe\">\n",
       "  <thead>\n",
       "    <tr style=\"text-align: right;\">\n",
       "      <th></th>\n",
       "      <th>Key</th>\n",
       "      <th>Title</th>\n",
       "      <th>Description</th>\n",
       "    </tr>\n",
       "  </thead>\n",
       "  <tbody>\n",
       "    <tr>\n",
       "      <th>0</th>\n",
       "      <td>NL01</td>\n",
       "      <td>The Netherlands</td>\n",
       "      <td></td>\n",
       "    </tr>\n",
       "    <tr>\n",
       "      <th>1</th>\n",
       "      <td>LD01</td>\n",
       "      <td>Noord-Nederland (LD)</td>\n",
       "      <td>LD = Landsdeel\\n\\nNoord-Nederland: Groningen, ...</td>\n",
       "    </tr>\n",
       "    <tr>\n",
       "      <th>2</th>\n",
       "      <td>LD02</td>\n",
       "      <td>Oost-Nederland (LD)</td>\n",
       "      <td>LD = Landsdeel\\n\\nOost-Nederland: Overijssel, ...</td>\n",
       "    </tr>\n",
       "    <tr>\n",
       "      <th>3</th>\n",
       "      <td>LD03</td>\n",
       "      <td>West-Nederland (LD)</td>\n",
       "      <td>LD = Landsdeel\\n\\nWest-Nederland: Utrecht, Noo...</td>\n",
       "    </tr>\n",
       "  </tbody>\n",
       "</table>\n",
       "</div>"
      ],
      "text/plain": [
       "        Key                 Title  \\\n",
       "0  NL01           The Netherlands   \n",
       "1  LD01      Noord-Nederland (LD)   \n",
       "2  LD02       Oost-Nederland (LD)   \n",
       "3  LD03       West-Nederland (LD)   \n",
       "\n",
       "                                         Description  \n",
       "0                                                     \n",
       "1  LD = Landsdeel\\n\\nNoord-Nederland: Groningen, ...  \n",
       "2  LD = Landsdeel\\n\\nOost-Nederland: Overijssel, ...  \n",
       "3  LD = Landsdeel\\n\\nWest-Nederland: Utrecht, Noo...  "
      ]
     },
     "execution_count": 71,
     "metadata": {},
     "output_type": "execute_result"
    }
   ],
   "source": [
    "region.head(4)"
   ]
  },
  {
   "cell_type": "code",
   "execution_count": 72,
   "metadata": {},
   "outputs": [
    {
     "data": {
      "text/html": [
       "<div>\n",
       "<style scoped>\n",
       "    .dataframe tbody tr th:only-of-type {\n",
       "        vertical-align: middle;\n",
       "    }\n",
       "\n",
       "    .dataframe tbody tr th {\n",
       "        vertical-align: top;\n",
       "    }\n",
       "\n",
       "    .dataframe thead th {\n",
       "        text-align: right;\n",
       "    }\n",
       "</style>\n",
       "<table border=\"1\" class=\"dataframe\">\n",
       "  <thead>\n",
       "    <tr style=\"text-align: right;\">\n",
       "      <th></th>\n",
       "      <th>Key</th>\n",
       "      <th>Title</th>\n",
       "      <th>Description</th>\n",
       "      <th>Status</th>\n",
       "    </tr>\n",
       "  </thead>\n",
       "  <tbody>\n",
       "    <tr>\n",
       "      <th>0</th>\n",
       "      <td>2012JJ00</td>\n",
       "      <td>2012</td>\n",
       "      <td></td>\n",
       "      <td>Definitief</td>\n",
       "    </tr>\n",
       "    <tr>\n",
       "      <th>1</th>\n",
       "      <td>2015JJ00</td>\n",
       "      <td>2015</td>\n",
       "      <td></td>\n",
       "      <td>Definitief</td>\n",
       "    </tr>\n",
       "    <tr>\n",
       "      <th>2</th>\n",
       "      <td>2018JJ00</td>\n",
       "      <td>2018</td>\n",
       "      <td></td>\n",
       "      <td>Definitief</td>\n",
       "    </tr>\n",
       "  </tbody>\n",
       "</table>\n",
       "</div>"
      ],
      "text/plain": [
       "        Key Title Description      Status\n",
       "0  2012JJ00  2012              Definitief\n",
       "1  2015JJ00  2015              Definitief\n",
       "2  2018JJ00  2018              Definitief"
      ]
     },
     "execution_count": 72,
     "metadata": {},
     "output_type": "execute_result"
    }
   ],
   "source": [
    "periods.head(4)"
   ]
  },
  {
   "cell_type": "markdown",
   "metadata": {},
   "source": [
    "## Reading the data files"
   ]
  },
  {
   "cell_type": "code",
   "execution_count": 75,
   "metadata": {},
   "outputs": [],
   "source": [
    "costs = pd.read_csv('Housing_costs1.csv', sep=';')"
   ]
  },
  {
   "cell_type": "code",
   "execution_count": 76,
   "metadata": {},
   "outputs": [
    {
     "data": {
      "text/html": [
       "<div>\n",
       "<style scoped>\n",
       "    .dataframe tbody tr th:only-of-type {\n",
       "        vertical-align: middle;\n",
       "    }\n",
       "\n",
       "    .dataframe tbody tr th {\n",
       "        vertical-align: top;\n",
       "    }\n",
       "\n",
       "    .dataframe thead th {\n",
       "        text-align: right;\n",
       "    }\n",
       "</style>\n",
       "<table border=\"1\" class=\"dataframe\">\n",
       "  <thead>\n",
       "    <tr style=\"text-align: right;\">\n",
       "      <th></th>\n",
       "      <th>ID</th>\n",
       "      <th>OwnerOrTenant</th>\n",
       "      <th>DwellingCharacteristics</th>\n",
       "      <th>Accuracy</th>\n",
       "      <th>Region</th>\n",
       "      <th>Periods</th>\n",
       "      <th>TotalHousingCosts_1</th>\n",
       "      <th>NetRentOrMortgage_2</th>\n",
       "      <th>AdditionalHousingCosts_3</th>\n",
       "      <th>HousingCostRatio_4</th>\n",
       "      <th>NonSkewedRent_5</th>\n",
       "      <th>SkewedTowardsCheapRent_6</th>\n",
       "      <th>SkewedTowardsExpensiveRent_7</th>\n",
       "    </tr>\n",
       "  </thead>\n",
       "  <tbody>\n",
       "    <tr>\n",
       "      <th>0</th>\n",
       "      <td>0</td>\n",
       "      <td>T001096</td>\n",
       "      <td>T001100</td>\n",
       "      <td>MW00000</td>\n",
       "      <td>NL01</td>\n",
       "      <td>2012JJ00</td>\n",
       "      <td>863</td>\n",
       "      <td>641</td>\n",
       "      <td>222</td>\n",
       "      <td>34.0</td>\n",
       "      <td>.</td>\n",
       "      <td>.</td>\n",
       "      <td>.</td>\n",
       "    </tr>\n",
       "    <tr>\n",
       "      <th>1</th>\n",
       "      <td>1</td>\n",
       "      <td>T001096</td>\n",
       "      <td>T001100</td>\n",
       "      <td>MW00000</td>\n",
       "      <td>NL01</td>\n",
       "      <td>2015JJ00</td>\n",
       "      <td>839</td>\n",
       "      <td>627</td>\n",
       "      <td>212</td>\n",
       "      <td>33.0</td>\n",
       "      <td>.</td>\n",
       "      <td>.</td>\n",
       "      <td>.</td>\n",
       "    </tr>\n",
       "    <tr>\n",
       "      <th>2</th>\n",
       "      <td>2</td>\n",
       "      <td>T001096</td>\n",
       "      <td>T001100</td>\n",
       "      <td>MW00000</td>\n",
       "      <td>NL01</td>\n",
       "      <td>2018JJ00</td>\n",
       "      <td>864</td>\n",
       "      <td>653</td>\n",
       "      <td>211</td>\n",
       "      <td>32.6</td>\n",
       "      <td>.</td>\n",
       "      <td>.</td>\n",
       "      <td>.</td>\n",
       "    </tr>\n",
       "    <tr>\n",
       "      <th>3</th>\n",
       "      <td>3</td>\n",
       "      <td>T001096</td>\n",
       "      <td>T001100</td>\n",
       "      <td>MW00000</td>\n",
       "      <td>LD01</td>\n",
       "      <td>2012JJ00</td>\n",
       "      <td>819</td>\n",
       "      <td>587</td>\n",
       "      <td>233</td>\n",
       "      <td>34.8</td>\n",
       "      <td>.</td>\n",
       "      <td>.</td>\n",
       "      <td>.</td>\n",
       "    </tr>\n",
       "    <tr>\n",
       "      <th>4</th>\n",
       "      <td>4</td>\n",
       "      <td>T001096</td>\n",
       "      <td>T001100</td>\n",
       "      <td>MW00000</td>\n",
       "      <td>LD01</td>\n",
       "      <td>2015JJ00</td>\n",
       "      <td>781</td>\n",
       "      <td>562</td>\n",
       "      <td>219</td>\n",
       "      <td>33.1</td>\n",
       "      <td>.</td>\n",
       "      <td>.</td>\n",
       "      <td>.</td>\n",
       "    </tr>\n",
       "    <tr>\n",
       "      <th>5</th>\n",
       "      <td>5</td>\n",
       "      <td>T001096</td>\n",
       "      <td>T001100</td>\n",
       "      <td>MW00000</td>\n",
       "      <td>LD01</td>\n",
       "      <td>2018JJ00</td>\n",
       "      <td>788</td>\n",
       "      <td>568</td>\n",
       "      <td>220</td>\n",
       "      <td>32.4</td>\n",
       "      <td>.</td>\n",
       "      <td>.</td>\n",
       "      <td>.</td>\n",
       "    </tr>\n",
       "  </tbody>\n",
       "</table>\n",
       "</div>"
      ],
      "text/plain": [
       "   ID OwnerOrTenant DwellingCharacteristics Accuracy    Region   Periods  \\\n",
       "0   0       T001096                 T001100  MW00000  NL01      2012JJ00   \n",
       "1   1       T001096                 T001100  MW00000  NL01      2015JJ00   \n",
       "2   2       T001096                 T001100  MW00000  NL01      2018JJ00   \n",
       "3   3       T001096                 T001100  MW00000  LD01      2012JJ00   \n",
       "4   4       T001096                 T001100  MW00000  LD01      2015JJ00   \n",
       "5   5       T001096                 T001100  MW00000  LD01      2018JJ00   \n",
       "\n",
       "  TotalHousingCosts_1 NetRentOrMortgage_2 AdditionalHousingCosts_3  \\\n",
       "0                 863                 641                      222   \n",
       "1                 839                 627                      212   \n",
       "2                 864                 653                      211   \n",
       "3                 819                 587                      233   \n",
       "4                 781                 562                      219   \n",
       "5                 788                 568                      220   \n",
       "\n",
       "  HousingCostRatio_4 NonSkewedRent_5 SkewedTowardsCheapRent_6  \\\n",
       "0               34.0               .                        .   \n",
       "1               33.0               .                        .   \n",
       "2               32.6               .                        .   \n",
       "3               34.8               .                        .   \n",
       "4               33.1               .                        .   \n",
       "5               32.4               .                        .   \n",
       "\n",
       "  SkewedTowardsExpensiveRent_7  \n",
       "0                            .  \n",
       "1                            .  \n",
       "2                            .  \n",
       "3                            .  \n",
       "4                            .  \n",
       "5                            .  "
      ]
     },
     "execution_count": 76,
     "metadata": {},
     "output_type": "execute_result"
    }
   ],
   "source": [
    "costs.head(6)"
   ]
  },
  {
   "cell_type": "code",
   "execution_count": 78,
   "metadata": {},
   "outputs": [],
   "source": [
    "housing_satisfaction = pd.read_csv('Housing_satisfaction_household_and_dwelling_characteristics.csv', sep=';')"
   ]
  },
  {
   "cell_type": "code",
   "execution_count": 79,
   "metadata": {},
   "outputs": [
    {
     "data": {
      "text/html": [
       "<div>\n",
       "<style scoped>\n",
       "    .dataframe tbody tr th:only-of-type {\n",
       "        vertical-align: middle;\n",
       "    }\n",
       "\n",
       "    .dataframe tbody tr th {\n",
       "        vertical-align: top;\n",
       "    }\n",
       "\n",
       "    .dataframe thead th {\n",
       "        text-align: right;\n",
       "    }\n",
       "</style>\n",
       "<table border=\"1\" class=\"dataframe\">\n",
       "  <thead>\n",
       "    <tr style=\"text-align: right;\">\n",
       "      <th></th>\n",
       "      <th>ID</th>\n",
       "      <th>OwnerTenant</th>\n",
       "      <th>HouseholdCharacteristics</th>\n",
       "      <th>DwellingCharacteristics</th>\n",
       "      <th>Margins</th>\n",
       "      <th>Periods</th>\n",
       "      <th>SatisfactionWithCurrentDwelling_1</th>\n",
       "      <th>SatisfactionWithLivingEnvironment_2</th>\n",
       "    </tr>\n",
       "  </thead>\n",
       "  <tbody>\n",
       "    <tr>\n",
       "      <th>0</th>\n",
       "      <td>0</td>\n",
       "      <td>T001096</td>\n",
       "      <td>1050010</td>\n",
       "      <td>T001100</td>\n",
       "      <td>MW00000</td>\n",
       "      <td>2002JJ00</td>\n",
       "      <td>89.2</td>\n",
       "      <td>84.3</td>\n",
       "    </tr>\n",
       "    <tr>\n",
       "      <th>1</th>\n",
       "      <td>1</td>\n",
       "      <td>T001096</td>\n",
       "      <td>1050010</td>\n",
       "      <td>T001100</td>\n",
       "      <td>MW00000</td>\n",
       "      <td>2006JJ00</td>\n",
       "      <td>89.7</td>\n",
       "      <td>85.0</td>\n",
       "    </tr>\n",
       "    <tr>\n",
       "      <th>2</th>\n",
       "      <td>2</td>\n",
       "      <td>T001096</td>\n",
       "      <td>1050010</td>\n",
       "      <td>T001100</td>\n",
       "      <td>MW00000</td>\n",
       "      <td>2009JJ00</td>\n",
       "      <td>90.0</td>\n",
       "      <td>83.4</td>\n",
       "    </tr>\n",
       "    <tr>\n",
       "      <th>3</th>\n",
       "      <td>3</td>\n",
       "      <td>T001096</td>\n",
       "      <td>1050010</td>\n",
       "      <td>T001100</td>\n",
       "      <td>MW00000</td>\n",
       "      <td>2012JJ00</td>\n",
       "      <td>89.0</td>\n",
       "      <td>84.1</td>\n",
       "    </tr>\n",
       "    <tr>\n",
       "      <th>4</th>\n",
       "      <td>4</td>\n",
       "      <td>T001096</td>\n",
       "      <td>1050010</td>\n",
       "      <td>T001100</td>\n",
       "      <td>MW00000</td>\n",
       "      <td>2015JJ00</td>\n",
       "      <td>86.9</td>\n",
       "      <td>82.0</td>\n",
       "    </tr>\n",
       "    <tr>\n",
       "      <th>5</th>\n",
       "      <td>5</td>\n",
       "      <td>T001096</td>\n",
       "      <td>1050010</td>\n",
       "      <td>T001100</td>\n",
       "      <td>MW00000</td>\n",
       "      <td>2018JJ00</td>\n",
       "      <td>84.6</td>\n",
       "      <td>83.3</td>\n",
       "    </tr>\n",
       "  </tbody>\n",
       "</table>\n",
       "</div>"
      ],
      "text/plain": [
       "   ID OwnerTenant HouseholdCharacteristics DwellingCharacteristics  Margins  \\\n",
       "0   0     T001096                  1050010                 T001100  MW00000   \n",
       "1   1     T001096                  1050010                 T001100  MW00000   \n",
       "2   2     T001096                  1050010                 T001100  MW00000   \n",
       "3   3     T001096                  1050010                 T001100  MW00000   \n",
       "4   4     T001096                  1050010                 T001100  MW00000   \n",
       "5   5     T001096                  1050010                 T001100  MW00000   \n",
       "\n",
       "    Periods SatisfactionWithCurrentDwelling_1  \\\n",
       "0  2002JJ00                              89.2   \n",
       "1  2006JJ00                              89.7   \n",
       "2  2009JJ00                              90.0   \n",
       "3  2012JJ00                              89.0   \n",
       "4  2015JJ00                              86.9   \n",
       "5  2018JJ00                              84.6   \n",
       "\n",
       "  SatisfactionWithLivingEnvironment_2  \n",
       "0                                84.3  \n",
       "1                                85.0  \n",
       "2                                83.4  \n",
       "3                                84.1  \n",
       "4                                82.0  \n",
       "5                                83.3  "
      ]
     },
     "execution_count": 79,
     "metadata": {},
     "output_type": "execute_result"
    }
   ],
   "source": [
    "housing_satisfaction.head(6)"
   ]
  },
  {
   "cell_type": "markdown",
   "metadata": {},
   "source": [
    "Now I'd like to check that column Periods contain only 3 categories of values. If so, then I will replace the codes of periods with the number of year in datetime type."
   ]
  },
  {
   "cell_type": "code",
   "execution_count": 21,
   "metadata": {},
   "outputs": [],
   "source": [
    "cost_periods = costs['Periods'].unique()"
   ]
  },
  {
   "cell_type": "code",
   "execution_count": 22,
   "metadata": {},
   "outputs": [],
   "source": [
    "costs['Periods'].replace(periods['Title'].to_dict(), inplace=True)"
   ]
  },
  {
   "cell_type": "code",
   "execution_count": 44,
   "metadata": {},
   "outputs": [
    {
     "data": {
      "text/html": [
       "<div>\n",
       "<style scoped>\n",
       "    .dataframe tbody tr th:only-of-type {\n",
       "        vertical-align: middle;\n",
       "    }\n",
       "\n",
       "    .dataframe tbody tr th {\n",
       "        vertical-align: top;\n",
       "    }\n",
       "\n",
       "    .dataframe thead th {\n",
       "        text-align: right;\n",
       "    }\n",
       "</style>\n",
       "<table border=\"1\" class=\"dataframe\">\n",
       "  <thead>\n",
       "    <tr style=\"text-align: right;\">\n",
       "      <th></th>\n",
       "      <th>ID</th>\n",
       "      <th>OwnerOrTenant</th>\n",
       "      <th>DwellingCharacteristics</th>\n",
       "      <th>Accuracy</th>\n",
       "      <th>Region</th>\n",
       "      <th>Periods</th>\n",
       "      <th>TotalHousingCosts_1</th>\n",
       "      <th>NetRentOrMortgage_2</th>\n",
       "      <th>AdditionalHousingCosts_3</th>\n",
       "      <th>HousingCostRatio_4</th>\n",
       "      <th>NonSkewedRent_5</th>\n",
       "      <th>SkewedTowardsCheapRent_6</th>\n",
       "      <th>SkewedTowardsExpensiveRent_7</th>\n",
       "    </tr>\n",
       "  </thead>\n",
       "  <tbody>\n",
       "  </tbody>\n",
       "</table>\n",
       "</div>"
      ],
      "text/plain": [
       "Empty DataFrame\n",
       "Columns: [ID, OwnerOrTenant, DwellingCharacteristics, Accuracy, Region, Periods, TotalHousingCosts_1, NetRentOrMortgage_2, AdditionalHousingCosts_3, HousingCostRatio_4, NonSkewedRent_5, SkewedTowardsCheapRent_6, SkewedTowardsExpensiveRent_7]\n",
       "Index: []"
      ]
     },
     "execution_count": 44,
     "metadata": {},
     "output_type": "execute_result"
    }
   ],
   "source": [
    "costs[(costs['Region'] == 'NL01')]"
   ]
  },
  {
   "cell_type": "code",
   "execution_count": 38,
   "metadata": {},
   "outputs": [
    {
     "ename": "SyntaxError",
     "evalue": "invalid syntax (<ipython-input-38-312e97abe768>, line 1)",
     "output_type": "error",
     "traceback": [
      "\u001b[0;36m  File \u001b[0;32m\"<ipython-input-38-312e97abe768>\"\u001b[0;36m, line \u001b[0;32m1\u001b[0m\n\u001b[0;31m    costs.query('OwnerOrTenant == 'A025403' & Region == 'NL01'')\u001b[0m\n\u001b[0m                                         ^\u001b[0m\n\u001b[0;31mSyntaxError\u001b[0m\u001b[0;31m:\u001b[0m invalid syntax\n"
     ]
    }
   ],
   "source": [
    "costs.query('OwnerOrTenant == 'A025403' & Region == 'NL01'')"
   ]
  },
  {
   "cell_type": "code",
   "execution_count": 45,
   "metadata": {},
   "outputs": [
    {
     "data": {
      "text/plain": [
       "array(['NL01    ', 'LD01    ', 'LD02    ', 'LD03    ', 'LD04    ',\n",
       "       'PV20    ', 'PV21    ', 'PV22    ', 'PV23    ', 'PV24    ',\n",
       "       'PV25    ', 'PV26    ', 'PV27    ', 'PV28    ', 'PV29    ',\n",
       "       'PV30    ', 'PV31    ', 'CR01    ', 'CR02    ', 'CR03    ',\n",
       "       'CR04    ', 'CR05    ', 'CR06    ', 'CR07    ', 'CR08    ',\n",
       "       'CR09    ', 'CR10    ', 'CR11    ', 'CR12    ', 'CR13    ',\n",
       "       'CR14    ', 'CR15    ', 'CR16    ', 'CR17    ', 'CR18    ',\n",
       "       'CR19    ', 'CR20    ', 'CR21    ', 'CR22    ', 'CR23    ',\n",
       "       'CR24    ', 'CR25    ', 'CR26    ', 'CR27    ', 'CR28    ',\n",
       "       'CR29    ', 'CR30    ', 'CR31    ', 'CR32    ', 'CR33    ',\n",
       "       'CR34    ', 'CR35    ', 'CR36    ', 'CR37    ', 'CR38    ',\n",
       "       'CR39    ', 'CR40    ', 'GM0361  ', 'GM0034  ', 'GM0484  ',\n",
       "       'GM0307  ', 'GM0363  ', 'GM0200  ', 'GM0202  ', 'GM0758  ',\n",
       "       'GM0503  ', 'GM0505  ', 'GM0228  ', 'GM0772  ', 'GM0114  ',\n",
       "       'GM0153  ', 'GM0518  ', 'GM0014  ', 'GM0392  ', 'GM0394  ',\n",
       "       'GM0796  ', 'GM0080  ', 'GM0546  ', 'GM0935  ', 'GM0268  ',\n",
       "       'GM0599  ', 'GM0855  ', 'GM0344  ', 'GM0983  ', 'GM1783  ',\n",
       "       'GM0479  ', 'GM0637  ', 'GM0193  '], dtype=object)"
      ]
     },
     "execution_count": 45,
     "metadata": {},
     "output_type": "execute_result"
    }
   ],
   "source": [
    "costs['Region'].unique()"
   ]
  },
  {
   "cell_type": "code",
   "execution_count": null,
   "metadata": {},
   "outputs": [],
   "source": []
  }
 ],
 "metadata": {
  "kernelspec": {
   "display_name": "Python 3",
   "language": "python",
   "name": "python3"
  },
  "language_info": {
   "codemirror_mode": {
    "name": "ipython",
    "version": 3
   },
   "file_extension": ".py",
   "mimetype": "text/x-python",
   "name": "python",
   "nbconvert_exporter": "python",
   "pygments_lexer": "ipython3",
   "version": "3.6.3"
  }
 },
 "nbformat": 4,
 "nbformat_minor": 2
}
